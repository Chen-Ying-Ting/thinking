{
  "nbformat": 4,
  "nbformat_minor": 0,
  "metadata": {
    "colab": {
      "name": "w14  cyt-2",
      "provenance": [],
      "authorship_tag": "ABX9TyM6OCvql5OJXrSmIJez0bRA",
      "include_colab_link": true
    },
    "kernelspec": {
      "name": "python3",
      "display_name": "Python 3"
    }
  },
  "cells": [
    {
      "cell_type": "markdown",
      "metadata": {
        "id": "view-in-github",
        "colab_type": "text"
      },
      "source": [
        "<a href=\"https://colab.research.google.com/github/Chen-Ying-Ting/thinking/blob/master/w14_cyt_2.ipynb\" target=\"_parent\"><img src=\"https://colab.research.google.com/assets/colab-badge.svg\" alt=\"Open In Colab\"/></a>"
      ]
    },
    {
      "cell_type": "code",
      "metadata": {
        "colab": {
          "base_uri": "https://localhost:8080/"
        },
        "id": "vjHne_iRuK2H",
        "outputId": "31307498-9293-4d46-95b9-42338b493c46"
      },
      "source": [
        "sheet = ['牛奶', '蛋', '咖啡豆']\r\n",
        "for index in [0,1,2]:\r\n",
        "  print(index)\r\n",
        "\r\n",
        "sheet = ['牛奶', '蛋', '咖啡豆']\r\n",
        "for index in sheet:\r\n",
        "  print(index)\r\n",
        "\r\n",
        "sheet = ['牛奶', '蛋', '咖啡豆']\r\n",
        "for index in [0,1,2]:\r\n",
        "  print(index, sheet[index])\r\n",
        "\r\n",
        "sheet = ['牛奶', '蛋', '咖啡豆']\r\n",
        "for index in range(0,len(sheet)):\r\n",
        "  print(index, sheet[index])\r\n",
        "\r\n",
        "  "
      ],
      "execution_count": 8,
      "outputs": [
        {
          "output_type": "stream",
          "text": [
            "0\n",
            "1\n",
            "2\n",
            "牛奶\n",
            "蛋\n",
            "咖啡豆\n",
            "0 牛奶\n",
            "1 蛋\n",
            "2 咖啡豆\n",
            "0 牛奶\n",
            "1 蛋\n",
            "2 咖啡豆\n"
          ],
          "name": "stdout"
        }
      ]
    }
  ]
}