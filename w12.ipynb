{
  "nbformat": 4,
  "nbformat_minor": 0,
  "metadata": {
    "colab": {
      "name": "w12",
      "provenance": [],
      "authorship_tag": "ABX9TyMfbDKa0LnQH4yqRqhAo1X/",
      "include_colab_link": true
    },
    "kernelspec": {
      "name": "python3",
      "display_name": "Python 3"
    }
  },
  "cells": [
    {
      "cell_type": "markdown",
      "metadata": {
        "id": "view-in-github",
        "colab_type": "text"
      },
      "source": [
        "<a href=\"https://colab.research.google.com/github/Chen-Ying-Ting/thinking/blob/master/w12.ipynb\" target=\"_parent\"><img src=\"https://colab.research.google.com/assets/colab-badge.svg\" alt=\"Open In Colab\"/></a>"
      ]
    },
    {
      "cell_type": "code",
      "metadata": {
        "id": "839cae1SnxZb"
      },
      "source": [
        "hello1 = \"hello world\"\n",
        "hello2 = 'hello python'\n",
        "hello3 = \"shaquile 0'neil\"\n",
        "\n",
        "s1 = \"123\"\n",
        "s2 = \"456\"\n",
        "s3 = s1 + s2\n",
        "print(s3)\n",
        "s4 = s1 * 2\n",
        "print(s4)\n",
        "\n",
        "s1 = 'an apple a day'\n",
        "s1.capitalize()\n",
        "s1.title()\n",
        "s1.swapcase()\n",
        "s1.upper()\n",
        "s1.lower()\n",
        "\n",
        "numberlist = [1,2,3,4,5]\n",
        "charlist = [\"1\", \"2\", \"3\", \"4\", \"5\"]\n",
        "mixlist = [1,\"2\",3,\"4\",5]\n"
      ],
      "execution_count": null,
      "outputs": []
    }
  ]
}