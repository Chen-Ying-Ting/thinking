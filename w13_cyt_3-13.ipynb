{
  "nbformat": 4,
  "nbformat_minor": 0,
  "metadata": {
    "colab": {
      "name": "w13 cyt - 3",
      "provenance": [],
      "authorship_tag": "ABX9TyP8NtywsRXY+mQ3nWkhrVvf",
      "include_colab_link": true
    },
    "kernelspec": {
      "name": "python3",
      "display_name": "Python 3"
    }
  },
  "cells": [
    {
      "cell_type": "markdown",
      "metadata": {
        "id": "view-in-github",
        "colab_type": "text"
      },
      "source": [
        "<a href=\"https://colab.research.google.com/github/Chen-Ying-Ting/thinking/blob/master/w13_cyt_3-13.ipynb\" target=\"_parent\"><img src=\"https://colab.research.google.com/assets/colab-badge.svg\" alt=\"Open In Colab\"/></a>"
      ]
    },
    {
      "cell_type": "code",
      "metadata": {
        "colab": {
          "base_uri": "https://localhost:8080/"
        },
        "id": "XKhMCAJT3se8",
        "outputId": "3fc5fad9-b4c6-413e-b768-cf1bf5d255f5"
      },
      "source": [
        "sum = 0\n",
        "for i in range(3, 14, 3):\n",
        "  print(i)\n",
        "  sum = sum + i\n",
        "print(\"total is\", sum)\n"
      ],
      "execution_count": 2,
      "outputs": [
        {
          "output_type": "stream",
          "text": [
            "3\n",
            "6\n",
            "9\n",
            "12\n",
            "total is 30\n"
          ],
          "name": "stdout"
        }
      ]
    }
  ]
}