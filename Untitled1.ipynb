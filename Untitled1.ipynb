{
  "nbformat": 4,
  "nbformat_minor": 0,
  "metadata": {
    "colab": {
      "name": "Untitled1.ipynb",
      "provenance": [],
      "authorship_tag": "ABX9TyPmgX/QqQLsXlYNoHkV+L/3",
      "include_colab_link": true
    },
    "kernelspec": {
      "name": "python3",
      "display_name": "Python 3"
    }
  },
  "cells": [
    {
      "cell_type": "markdown",
      "metadata": {
        "id": "view-in-github",
        "colab_type": "text"
      },
      "source": [
        "<a href=\"https://colab.research.google.com/github/Chen-Ying-Ting/thinking/blob/master/Untitled1.ipynb\" target=\"_parent\"><img src=\"https://colab.research.google.com/assets/colab-badge.svg\" alt=\"Open In Colab\"/></a>"
      ]
    },
    {
      "cell_type": "code",
      "metadata": {
        "id": "f4SH2cChYSSB",
        "outputId": "5ab42b2b-a147-4546-b5d0-525274027072",
        "colab": {
          "base_uri": "https://localhost:8080/"
        }
      },
      "source": [
        "A = cloth = int(input(\"請輸入上衣的件數\"))\n",
        "B = trousers = int(input(\"請輸入褲子的件數\"))\n",
        "C = drink = int(input(\"請輸入飲料的杯數\"))\n",
        "\n",
        "total = A+B+C\n",
        "print(\"訂購數量為\",total)\n",
        "print(\"訂購的平均為\",total/3)\n",
        " "
      ],
      "execution_count": 1,
      "outputs": [
        {
          "output_type": "stream",
          "text": [
            "請輸入上衣的件數30\n",
            "請輸入褲子的件數30\n",
            "請輸入飲料的杯數30\n",
            "訂購數量為 90\n",
            "訂購的平均為 30.0\n"
          ],
          "name": "stdout"
        }
      ]
    }
  ]
}