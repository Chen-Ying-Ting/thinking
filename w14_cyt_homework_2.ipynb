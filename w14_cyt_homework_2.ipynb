{
  "nbformat": 4,
  "nbformat_minor": 0,
  "metadata": {
    "colab": {
      "name": "w14 cyt homework-2",
      "provenance": [],
      "authorship_tag": "ABX9TyMxVoWjWPyCFn8iuqnd0ZNx",
      "include_colab_link": true
    },
    "kernelspec": {
      "name": "python3",
      "display_name": "Python 3"
    }
  },
  "cells": [
    {
      "cell_type": "markdown",
      "metadata": {
        "id": "view-in-github",
        "colab_type": "text"
      },
      "source": [
        "<a href=\"https://colab.research.google.com/github/Chen-Ying-Ting/thinking/blob/master/w14_cyt_homework_2.ipynb\" target=\"_parent\"><img src=\"https://colab.research.google.com/assets/colab-badge.svg\" alt=\"Open In Colab\"/></a>"
      ]
    },
    {
      "cell_type": "code",
      "metadata": {
        "colab": {
          "base_uri": "https://localhost:8080/"
        },
        "id": "phSlDD2At7c3",
        "outputId": "0fb89df2-08cf-4e58-bce2-8b165b13b1bd"
      },
      "source": [
        "n = 5\r\n",
        "sum = 0\r\n",
        "for i in range(1, n + 1):\r\n",
        "  sum = sum + i*i\r\n",
        "print(\"total is\", sum)"
      ],
      "execution_count": 8,
      "outputs": [
        {
          "output_type": "stream",
          "text": [
            "total is 55\n"
          ],
          "name": "stdout"
        }
      ]
    },
    {
      "cell_type": "code",
      "metadata": {
        "colab": {
          "base_uri": "https://localhost:8080/"
        },
        "id": "Dc9_S4jnwDYr",
        "outputId": "05a89d18-63c4-45d7-e24d-56a538703077"
      },
      "source": [
        "people = ['1', '2', '3']\r\n",
        "desserts = ['7', '8', '9']\r\n",
        "for index in range(len(people)):\r\n",
        "  name = people[index]\r\n",
        "  dessert = desserts[index]\r\n",
        "  print(f\"hi! my name is {name}. my favirite dessert is {dessert}.\")\r\n"
      ],
      "execution_count": 26,
      "outputs": [
        {
          "output_type": "stream",
          "text": [
            "hi! my name is 1. my favirite dessert is 7.\n",
            "hi! my name is 2. my favirite dessert is 8.\n",
            "hi! my name is 3. my favirite dessert is 9.\n"
          ],
          "name": "stdout"
        }
      ]
    },
    {
      "cell_type": "code",
      "metadata": {
        "id": "61BGS39Q2bQg"
      },
      "source": [
        ""
      ],
      "execution_count": 9,
      "outputs": []
    }
  ]
}