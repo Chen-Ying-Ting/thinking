{
  "nbformat": 4,
  "nbformat_minor": 0,
  "metadata": {
    "colab": {
      "name": "期末報告",
      "provenance": [],
      "include_colab_link": true
    },
    "kernelspec": {
      "name": "python3",
      "display_name": "Python 3"
    }
  },
  "cells": [
    {
      "cell_type": "markdown",
      "metadata": {
        "id": "view-in-github",
        "colab_type": "text"
      },
      "source": [
        "<a href=\"https://colab.research.google.com/github/Chen-Ying-Ting/thinking/blob/master/%E6%9C%9F%E6%9C%AB%E5%A0%B1%E5%91%8A.ipynb\" target=\"_parent\"><img src=\"https://colab.research.google.com/assets/colab-badge.svg\" alt=\"Open In Colab\"/></a>"
      ]
    },
    {
      "cell_type": "code",
      "metadata": {
        "colab": {
          "base_uri": "https://localhost:8080/",
          "height": 303
        },
        "id": "T1vQdHYq5bKK",
        "outputId": "5b606390-8227-4b6f-8154-109d75722d49"
      },
      "source": [
        "print(\"嗨,請問你叫什麼名字?\")\r\n",
        "name = input(\"你的名字?\")\r\n",
        "print(\"嗨,\",name,\"你今天想吃什麼?\")\r\n",
        "ans = input(\"a.日式 b.法式 c.韓式 d.中國菜?\")\r\n",
        "if ans == 'a':\r\n",
        "  species = input(\"日式的話偏向a.拉麵 b.壽司 c.燒肉?\")\r\n",
        "pass\r\n",
        "if species == 'a' or species == 'b' or species == 'c' and ans == 'a':\r\n",
        "  price = input(\"希望價位在a.100~300 b.300~600?\")\r\n",
        "pass\r\n",
        "\r\n",
        "if price == 'a' and species == 'a' and ans =='a':\r\n",
        "  print(\"我推薦九湯屋\")\r\n",
        "pass\r\n",
        "if price == 'b' and species == 'a'and ans =='a':\r\n",
        "  print(\"我推薦一蘭\")\r\n",
        "pass\r\n",
        "if price == 'a' and species == 'b'and ans =='a':\r\n",
        "  print(\"我推薦爭鮮\")\r\n",
        "pass\r\n",
        "if price == 'b' and species == 'b'and ans =='a':\r\n",
        "  print(\"我推薦中與志\")\r\n",
        "pass\r\n",
        "if price == 'a' and species == 'c'and ans =='a':\r\n",
        "  print(\"我推薦燒肉殿\")\r\n",
        "pass\r\n",
        "if price == 'b' and species == 'c'and ans =='a':\r\n",
        "  print(\"我推薦中山燒烤\")\r\n",
        "pass\r\n",
        "if ans == 'b':\r\n",
        "  all=input(\"a.高級法國料理 b.布爾喬亞式烹飪技術\")\r\n",
        "  if all == \"a\":\r\n",
        "    map=input(\"a高級法國料理 \\n 1.Thomas Chien法式餐廳 \\n 2.侯布雄法式餐廳 \\n 3.La Cocotte by Fabien Vergé \\n\")\r\n",
        "    if map == \"1\":\r\n",
        "        print(\"高雄市前鎮區成功二路11號\")\r\n",
        "    elif map == \"2\":\r\n",
        "        print(\"台北市信義區松仁路28號\")\r\n",
        "    elif map == \"3\":\r\n",
        "        print(\"台北市大安區忠孝東路四段170巷6弄22號\")\r\n",
        "  elif all == 'b':\r\n",
        "    technology=input(\"b.布爾喬亞式烹飪技術 \\n 1.布爾喬亞 \\n 2.Origines \\n\")\r\n",
        "    if technology == \"1\":\r\n",
        "        print(\"台北市信義區松隆路59號\")\r\n",
        "    elif technology == \"2\":\r\n",
        "        print(\"台北市大安區敦化南路二段81巷31號\")\r\n",
        "pass\r\n",
        "if ans == \"c\":\r\n",
        "  print(\"a-辣炒年糕\", \"b-海鮮煎餅\", \"c-起司部隊鍋\")\r\n",
        "  money = input(\"請輸入喜歡的菜\")\r\n",
        "  if money == \"a\":\r\n",
        "   print(\"80\")\r\n",
        "  if money == \"b\":\r\n",
        "   print(\"200\")\r\n",
        "  if money == \"c\":\r\n",
        "   print(\"180\")\r\n",
        "pass\r\n",
        "if ans == \"d\":\r\n",
        "  print(\"a-自治區\", \"b-中南地區\", \"c-華北地區\", \"d-西南地區\")\r\n",
        "  answer = input(\"請輸入有興趣的地域\") \r\n",
        "  if answer ==\"a\":\r\n",
        "    print(\"a-新疆\", \"b-蒙古\", \"c-西藏\")\r\n",
        "    q = input(\"請輸入想嘗試的地點\")\r\n",
        "    if q ==\"a\":\r\n",
        "      print(\"炒米粉\", \"烤全羊\", \"大盤雞\", \"架子肉\")\r\n",
        "    if q ==\"b\":\r\n",
        "      print(\"餡餅\", \"手扒肉\", \"血腸\", \"涮羊肉\")\r\n",
        "    if q ==\"c\":\r\n",
        "      print(\"酥油茶\", \"氂牛肉\", \"青稞糌粑\", \"青稞酒\")\r\n",
        "  if answer ==\"b\":\r\n",
        "    print(\"a-河南\", \"b-湖南\", \"c-廣東\")\r\n",
        "    e = input(\"請輸入想嘗試的地點\")\r\n",
        "    if e ==\"a\":\r\n",
        "      print(\"長壽魚\", \"三不沾\", \"龍鬚糕\", \"菊花鴨\")\r\n",
        "    if e ==\"b\":\r\n",
        "      print(\"剁椒魚頭\", \"東鞍子鴨\", \"跳跳蛙\", \"荷包肚\")\r\n",
        "    if e ==\"c\":\r\n",
        "      print(\"雲吞麵\", \"姜撞奶\", \"燒鵝\", \"老火湯\")\r\n",
        "  if answer ==\"c\":\r\n",
        "    print(\"a-北京\", \"b-河北\", \"c-陝西\")\r\n",
        "    t = input(\"請輸入想嘗試的地點\")\r\n",
        "    if t ==\"a\" :\r\n",
        "      print(\"宮廷奶酪\", \"北京烤鴨\", \"老北京酸奶\", \"冰糖葫蘆\")\r\n",
        "    if t ==\"b\" :\r\n",
        "      print(\"南宮熏菜\", \"道口燒雞\", \"勝芳松花蛋\", \"邯鄲拽面\")\r\n",
        "    if t ==\"c\" :\r\n",
        "      print(\"涼皮\", \"臊子麵\", \"臘汁肉夾饃\", \"胡辣湯\")\r\n",
        "  if answer ==\"d\":\r\n",
        "    print(\"a-四川\", \"b-貴州\", \"c-雲南\")\r\n",
        "    k = input(\"請輸入想嘗試的地點\")\r\n",
        "    if k ==\"a\":\r\n",
        "      print(\"缽缽雞\", \"擔擔麵\", \"夫妻肺片\", \"棒棒雞\")\r\n",
        "    if k ==\"b\":\r\n",
        "      print(\"羊肉粉\", \"雞肉餅\", \"豆腐圓子\", \"腸旺面\")\r\n",
        "    if k ==\"c\":\r\n",
        "      print(\"汽鍋雞\", \"過橋米線\", \"鮮花餅\", \"蟲\")"
      ],
      "execution_count": 7,
      "outputs": [
        {
          "output_type": "stream",
          "text": [
            "嗨,請問你叫什麼名字?\n",
            "你的名字?123\n",
            "嗨, 123 你今天想吃什麼?\n",
            "a.日式 b.法式 c.韓式 d.中國菜?d\n"
          ],
          "name": "stdout"
        },
        {
          "output_type": "error",
          "ename": "NameError",
          "evalue": "ignored",
          "traceback": [
            "\u001b[0;31m---------------------------------------------------------------------------\u001b[0m",
            "\u001b[0;31mNameError\u001b[0m                                 Traceback (most recent call last)",
            "\u001b[0;32m<ipython-input-7-4278b144798b>\u001b[0m in \u001b[0;36m<module>\u001b[0;34m()\u001b[0m\n\u001b[1;32m      6\u001b[0m   \u001b[0mspecies\u001b[0m \u001b[0;34m=\u001b[0m \u001b[0minput\u001b[0m\u001b[0;34m(\u001b[0m\u001b[0;34m\"日式的話偏向a.拉麵 b.壽司 c.燒肉?\"\u001b[0m\u001b[0;34m)\u001b[0m\u001b[0;34m\u001b[0m\u001b[0;34m\u001b[0m\u001b[0m\n\u001b[1;32m      7\u001b[0m \u001b[0;32mpass\u001b[0m\u001b[0;34m\u001b[0m\u001b[0;34m\u001b[0m\u001b[0m\n\u001b[0;32m----> 8\u001b[0;31m \u001b[0;32mif\u001b[0m \u001b[0mspecies\u001b[0m \u001b[0;34m==\u001b[0m\u001b[0;34m'a'\u001b[0m \u001b[0;32mor\u001b[0m \u001b[0mspecies\u001b[0m \u001b[0;34m==\u001b[0m\u001b[0;34m'b'\u001b[0m \u001b[0;32mor\u001b[0m \u001b[0mspecies\u001b[0m \u001b[0;34m==\u001b[0m\u001b[0;34m'c'\u001b[0m \u001b[0;32mand\u001b[0m \u001b[0mans\u001b[0m \u001b[0;34m==\u001b[0m\u001b[0;34m'a'\u001b[0m\u001b[0;34m:\u001b[0m\u001b[0;34m\u001b[0m\u001b[0;34m\u001b[0m\u001b[0m\n\u001b[0m\u001b[1;32m      9\u001b[0m   \u001b[0mprice\u001b[0m \u001b[0;34m=\u001b[0m \u001b[0minput\u001b[0m\u001b[0;34m(\u001b[0m\u001b[0;34m\"希望價位在a.100~300 b.300~600?\"\u001b[0m\u001b[0;34m)\u001b[0m\u001b[0;34m\u001b[0m\u001b[0;34m\u001b[0m\u001b[0m\n\u001b[1;32m     10\u001b[0m \u001b[0;32mpass\u001b[0m\u001b[0;34m\u001b[0m\u001b[0;34m\u001b[0m\u001b[0m\n",
            "\u001b[0;31mNameError\u001b[0m: name 'species' is not defined"
          ]
        }
      ]
    }
  ]
}