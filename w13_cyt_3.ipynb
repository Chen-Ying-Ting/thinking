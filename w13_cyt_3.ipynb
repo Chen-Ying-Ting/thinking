{
  "nbformat": 4,
  "nbformat_minor": 0,
  "metadata": {
    "colab": {
      "name": "w13 cyt - 3",
      "provenance": [],
      "authorship_tag": "ABX9TyMNyWZM46JTD9JqdUmRjAFw",
      "include_colab_link": true
    },
    "kernelspec": {
      "name": "python3",
      "display_name": "Python 3"
    }
  },
  "cells": [
    {
      "cell_type": "markdown",
      "metadata": {
        "id": "view-in-github",
        "colab_type": "text"
      },
      "source": [
        "<a href=\"https://colab.research.google.com/github/Chen-Ying-Ting/thinking/blob/master/w13_cyt_3.ipynb\" target=\"_parent\"><img src=\"https://colab.research.google.com/assets/colab-badge.svg\" alt=\"Open In Colab\"/></a>"
      ]
    },
    {
      "cell_type": "code",
      "metadata": {
        "colab": {
          "base_uri": "https://localhost:8080/"
        },
        "id": "XKhMCAJT3se8",
        "outputId": "e0128c7b-c690-408f-dcad-c0a68751afbd"
      },
      "source": [
        "sum = 0\n",
        "for i in range(1, 11, 1):\n",
        "  print(i)\n",
        "  sum = sum + i\n",
        "print(\"total is\", sum)\n"
      ],
      "execution_count": 17,
      "outputs": [
        {
          "output_type": "stream",
          "text": [
            "1\n",
            "2\n",
            "3\n",
            "4\n",
            "5\n",
            "6\n",
            "7\n",
            "8\n",
            "9\n",
            "10\n",
            "total is 55\n"
          ],
          "name": "stdout"
        }
      ]
    }
  ]
}