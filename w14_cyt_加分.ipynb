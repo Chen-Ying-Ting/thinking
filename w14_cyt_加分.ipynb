{
  "nbformat": 4,
  "nbformat_minor": 0,
  "metadata": {
    "colab": {
      "name": "w14 cyt  加分",
      "provenance": [],
      "authorship_tag": "ABX9TyOCJ6GYVEu6HbM9ngh+QFus",
      "include_colab_link": true
    },
    "kernelspec": {
      "name": "python3",
      "display_name": "Python 3"
    }
  },
  "cells": [
    {
      "cell_type": "markdown",
      "metadata": {
        "id": "view-in-github",
        "colab_type": "text"
      },
      "source": [
        "<a href=\"https://colab.research.google.com/github/Chen-Ying-Ting/thinking/blob/master/w14_cyt_%E5%8A%A0%E5%88%86.ipynb\" target=\"_parent\"><img src=\"https://colab.research.google.com/assets/colab-badge.svg\" alt=\"Open In Colab\"/></a>"
      ]
    },
    {
      "cell_type": "code",
      "metadata": {
        "colab": {
          "base_uri": "https://localhost:8080/"
        },
        "id": "JlyDi_7-_k6B",
        "outputId": "5e2dc7b0-d709-4d5f-a065-200f8c487c3d"
      },
      "source": [
        "for i in range(5):\r\n",
        "\r\n",
        "  print(\" \"*(5-i),end=\"\")\r\n",
        "  print(\"**\"*(i+0) + \"*\")"
      ],
      "execution_count": 63,
      "outputs": [
        {
          "output_type": "stream",
          "text": [
            "     *\n",
            "    ***\n",
            "   *****\n",
            "  *******\n",
            " *********\n"
          ],
          "name": "stdout"
        }
      ]
    },
    {
      "cell_type": "code",
      "metadata": {
        "id": "61BGS39Q2bQg"
      },
      "source": [
        ""
      ],
      "execution_count": 9,
      "outputs": []
    }
  ]
}