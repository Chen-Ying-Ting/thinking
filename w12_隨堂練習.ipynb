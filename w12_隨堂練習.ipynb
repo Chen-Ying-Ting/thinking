{
  "nbformat": 4,
  "nbformat_minor": 0,
  "metadata": {
    "colab": {
      "name": "w12 隨堂練習",
      "provenance": [],
      "authorship_tag": "ABX9TyPRIvHrTwMzoAqvefN4CAeN",
      "include_colab_link": true
    },
    "kernelspec": {
      "name": "python3",
      "display_name": "Python 3"
    }
  },
  "cells": [
    {
      "cell_type": "markdown",
      "metadata": {
        "id": "view-in-github",
        "colab_type": "text"
      },
      "source": [
        "<a href=\"https://colab.research.google.com/github/Chen-Ying-Ting/thinking/blob/master/w12_%E9%9A%A8%E5%A0%82%E7%B7%B4%E7%BF%92.ipynb\" target=\"_parent\"><img src=\"https://colab.research.google.com/assets/colab-badge.svg\" alt=\"Open In Colab\"/></a>"
      ]
    },
    {
      "cell_type": "code",
      "metadata": {
        "id": "T4nchZRCvzj7"
      },
      "source": [
        "list = list('美金', '台幣', '人民幣', '歐元', '英鎊')"
      ],
      "execution_count": null,
      "outputs": []
    }
  ]
}