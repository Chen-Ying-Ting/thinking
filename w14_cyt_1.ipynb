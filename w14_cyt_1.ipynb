{
  "nbformat": 4,
  "nbformat_minor": 0,
  "metadata": {
    "colab": {
      "name": "w14  cyt-1",
      "provenance": [],
      "authorship_tag": "ABX9TyMKMEi4bAHWtPGgQe4j2Q6Z",
      "include_colab_link": true
    },
    "kernelspec": {
      "name": "python3",
      "display_name": "Python 3"
    }
  },
  "cells": [
    {
      "cell_type": "markdown",
      "metadata": {
        "id": "view-in-github",
        "colab_type": "text"
      },
      "source": [
        "<a href=\"https://colab.research.google.com/github/Chen-Ying-Ting/thinking/blob/master/w14_cyt_1.ipynb\" target=\"_parent\"><img src=\"https://colab.research.google.com/assets/colab-badge.svg\" alt=\"Open In Colab\"/></a>"
      ]
    },
    {
      "cell_type": "code",
      "metadata": {
        "colab": {
          "base_uri": "https://localhost:8080/"
        },
        "id": "vjHne_iRuK2H",
        "outputId": "8a895a88-dbf4-49b8-cd20-ac8412d0bf51"
      },
      "source": [
        "start = int(input(\"請輸入加總開始值?\"))\r\n",
        "end = int(input(\"請輸入加總終止值?\"))\r\n",
        "step = int(input(\"請輸入遞增減值?\"))\r\n",
        "\r\n",
        "sum = 0\r\n",
        "for i in range(start, end, step):\r\n",
        "  sum = sum + i\r\n",
        "  print('i為', i, '時，累加結果為', sum)\r\n"
      ],
      "execution_count": 3,
      "outputs": [
        {
          "output_type": "stream",
          "text": [
            "請輸入加總開始值?2\n",
            "請輸入加總終止值?10\n",
            "請輸入遞增減值?2\n",
            "i為 2 時，累加結果為 2\n",
            "i為 4 時，累加結果為 6\n",
            "i為 6 時，累加結果為 12\n",
            "i為 8 時，累加結果為 20\n"
          ],
          "name": "stdout"
        }
      ]
    }
  ]
}